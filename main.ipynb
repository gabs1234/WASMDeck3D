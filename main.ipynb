{
 "cells": [
  {
   "cell_type": "code",
   "execution_count": 1,
   "metadata": {},
   "outputs": [
    {
     "name": "stdout",
     "output_type": "stream",
     "text": []
    }
   ],
   "source": [
    "import numpy as np\n",
    "import matplotlib.pyplot as plt\n",
    "import meep"
   ]
  },
  {
   "cell_type": "markdown",
   "metadata": {},
   "source": [
    "# Direct solution of maxwell equations"
   ]
  },
  {
   "cell_type": "code",
   "execution_count": 2,
   "metadata": {},
   "outputs": [
    {
     "name": "stdout",
     "output_type": "stream",
     "text": []
    },
    {
     "name": "stdout",
     "output_type": "stream",
     "text": []
    }
   ],
   "source": [
    "\"\"\"\n",
    "This example simulates a spherical point source inside a cube with reflecting walls.\n",
    "A continuous (fixed frequency) point source (implemented as a zero–sized source) is placed at the center\n",
    "of a 16×16×16 cube (in arbitrary units). No PML layers are added so that all cell boundaries are fully reflective.\n",
    "After running the simulation, a 2D slice (at z = 0) of the electric field component Ez is extracted and plotted.\n",
    "\"\"\"\n",
    "\n",
    "import meep as mp\n",
    "import matplotlib.pyplot as plt\n",
    "import numpy as np\n",
    "\n",
    "# -----------------------------\n",
    "# Simulation Setup\n",
    "# -----------------------------\n",
    "resolution = 20                 # pixels per unit length\n",
    "cell_size = mp.Vector3(16, 16, 16)  # Define a cube with side length 16\n",
    "\n",
    "# Define source frequency (in Meep units; here, frequency=1.0 corresponds to a vacuum wavelength of 1)\n",
    "f_source = 1.0\n",
    "\n",
    "# Define a point source at the center of the cell.\n",
    "# In Meep a point source is created by setting the \"size\" to zero.\n",
    "source = mp.Source(\n",
    "    src=mp.ContinuousSource(frequency=f_source),\n",
    "    component=mp.Ez,                   # We choose the Ez component. (For a true dipole, one might use a vector source.)\n",
    "    center=mp.Vector3(0, 0, 0),         # Place at the center of the cube.\n",
    "    size=mp.Vector3(0, 0, 0)            # Zero size gives a point source (spherical radiation).\n",
    ")\n",
    "\n",
    "# Set up the simulation.\n",
    "# By not including any PML layers (i.e. boundary_layers is an empty list),\n",
    "# the simulation domain uses reflecting boundary conditions (akin to PEC walls).\n",
    "sim = mp.Simulation(\n",
    "    cell_size=cell_size,\n",
    "    sources=[source],\n",
    "    resolution=resolution,\n",
    "    default_material=mp.Medium(index=1.0),  # Set the medium to vacuum (dielectric constant 1)\n",
    "    boundary_layers=[]                      # No absorbing layers → reflecting (metallic) boundaries.\n",
    ")\n",
    "\n",
    "# -----------------------------\n",
    "# Running the Simulation\n",
    "# -----------------------------\n",
    "# Run the simulation for a total time of 50 time units.\n",
    "sim.run(until=50)\n",
    "\n",
    "# -----------------------------\n",
    "# Extracting and Visualizing Field Data\n",
    "# -----------------------------\n",
    "# Extract a 2D slice of the Ez field at the mid-plane z = 0.\n",
    "# Setting the size vector's z-component to 0 instructs get_array() to extract a slice.\n",
    "ez_slice = sim.get_array(center=mp.Vector3(0, 0, 0),\n",
    "                         size=mp.Vector3(16, 16, 0),\n",
    "                         component=mp.Ez)\n",
    "\n",
    "# Create a plot of the slice.\n",
    "plt.figure(figsize=(6, 6))\n",
    "# The extent is chosen so that the x,y coordinates range from -8 to 8 (centering the cell).\n",
    "plt.imshow(ez_slice, interpolation='spline16', cmap='RdBu', extent=[-8, 8, -8, 8])\n",
    "plt.xlabel(\"x\")\n",
    "plt.ylabel(\"y\")\n",
    "plt.title(\"Ez field (z=0 plane) at t = 50\")\n",
    "plt.colorbar(label=\"Ez amplitude\")\n",
    "plt.show()"
   ]
  },
  {
   "cell_type": "code",
   "execution_count": null,
   "metadata": {},
   "outputs": [],
   "source": []
  }
 ],
 "metadata": {
  "kernelspec": {
   "display_name": "Python 3",
   "language": "python",
   "name": "python3"
  },
  "language_info": {
   "codemirror_mode": {
    "name": "ipython",
    "version": 3
   },
   "file_extension": ".py",
   "mimetype": "text/x-python",
   "name": "python",
   "nbconvert_exporter": "python",
   "pygments_lexer": "ipython3",
   "version": "3.12.7"
  }
 },
 "nbformat": 4,
 "nbformat_minor": 2
}
